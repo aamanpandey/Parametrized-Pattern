{
 "cells": [
  {
   "cell_type": "markdown",
   "metadata": {
    "toc": true
   },
   "source": [
    "<h1>Table of Contents<span class=\"tocSkip\"></span></h1>\n",
    "<div class=\"toc\"><ul class=\"toc-item\"><li><span><a href=\"#Parametrized-Pattern:\" data-toc-modified-id=\"Parametrized-Pattern:-1\"><span class=\"toc-item-num\">1&nbsp;&nbsp;</span>Parametrized Pattern:</a></span></li><li><span><a href=\"#Code:\" data-toc-modified-id=\"Code:-2\"><span class=\"toc-item-num\">2&nbsp;&nbsp;</span>Code:</a></span></li></ul></div>"
   ]
  },
  {
   "cell_type": "markdown",
   "metadata": {},
   "source": [
    "# Parametrized Pattern:"
   ]
  },
  {
   "cell_type": "markdown",
   "metadata": {},
   "source": [
    "S    : String of length 1\n",
    "\n",
    "rows : number of cells in a row\n",
    "\n",
    "cols : number of cells in a column"
   ]
  },
  {
   "cell_type": "markdown",
   "metadata": {},
   "source": [
    "# Code:"
   ]
  },
  {
   "cell_type": "code",
   "execution_count": 1,
   "metadata": {},
   "outputs": [
    {
     "name": "stdout",
     "output_type": "stream",
     "text": [
      "|---|---|---|---|---|\n",
      "|aaa|aaa|aaa|aaa|aaa|\n",
      "|aaa|aaa|aaa|aaa|aaa|\n",
      "|---|---|---|---|---|\n",
      "|aaa|aaa|aaa|aaa|aaa|\n",
      "|aaa|aaa|aaa|aaa|aaa|\n",
      "|---|---|---|---|---|\n",
      "|aaa|aaa|aaa|aaa|aaa|\n",
      "|aaa|aaa|aaa|aaa|aaa|\n",
      "|---|---|---|---|---|\n",
      "|aaa|aaa|aaa|aaa|aaa|\n",
      "|aaa|aaa|aaa|aaa|aaa|\n",
      "|---|---|---|---|---|\n"
     ]
    }
   ],
   "source": [
    "\n",
    "def pattern_gen(s, rows, cols):\n",
    "    for i in range(rows+1):\n",
    "        st=''\n",
    "        for j in range(cols):\n",
    "            st=st+'|'\n",
    "            for h in range(rows):\n",
    "                st+='-'\n",
    "        st=st+'|'\n",
    "        print(st)\n",
    "        \n",
    "        for k in range(2):\n",
    "            st1=''\n",
    "            for k in range(cols):\n",
    "                st1=st1+'|'\n",
    "                for u in range(rows):\n",
    "                    st1=st1+s\n",
    "            st1=st1+'|'\n",
    "            print(st1)\n",
    "        \n",
    "    st2=''\n",
    "    for j in range(cols):\n",
    "        st2=st2+'|'\n",
    "        for h in range(rows):\n",
    "            st2+='-'\n",
    "    st2=st2+'|'\n",
    "    print(st2)\n",
    "    \n",
    "  \n",
    "s='a'            \n",
    "pattern_gen(s,3,5)"
   ]
  }
 ],
 "metadata": {
  "kernelspec": {
   "display_name": "Python 3",
   "language": "python",
   "name": "python3"
  },
  "language_info": {
   "codemirror_mode": {
    "name": "ipython",
    "version": 3
   },
   "file_extension": ".py",
   "mimetype": "text/x-python",
   "name": "python",
   "nbconvert_exporter": "python",
   "pygments_lexer": "ipython3",
   "version": "3.7.4"
  },
  "toc": {
   "base_numbering": 1,
   "nav_menu": {},
   "number_sections": true,
   "sideBar": true,
   "skip_h1_title": false,
   "title_cell": "Table of Contents",
   "title_sidebar": "Contents",
   "toc_cell": true,
   "toc_position": {},
   "toc_section_display": true,
   "toc_window_display": true
  }
 },
 "nbformat": 4,
 "nbformat_minor": 2
}
